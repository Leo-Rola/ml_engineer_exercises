{
 "cells": [
  {
   "cell_type": "markdown",
   "id": "6802140f-11b1-481c-ab36-4807155f09cf",
   "metadata": {},
   "source": [
    "# PROBLEM STATEMENT\n",
    "There is a room with a television and people come in and out of the room to watch it; the television is on only when there is at least one person in the room. \n",
    "\n",
    "For each person that enters the room, we record the start and end time, represented as a two-element array containing the starting time (inclusive) and ending time (exclusive), with times as integers (you can think of hours, or minutes, or any interval you like).\n",
    "\n",
    "We want to know how long the television is on. "
   ]
  },
  {
   "cell_type": "markdown",
   "id": "862b7a66-5446-4ce8-838e-1d43cc845878",
   "metadata": {},
   "source": [
    "## example\n",
    "For instance, given the list of intervals (1 4), (6 8), (2 4), (7 9), the television is on at times 1, 2, 3 from the first interval, times 6 and 7 from the second interval, times 2 and 3 from the third interval, and times 7 and 8 from the first interval, a total of 6 times the television is on (at times 1, 2, 3, 6, 7 and 8).\n",
    "\n",
    "*gen_intervals* function can generate random intervals"
   ]
  },
  {
   "cell_type": "markdown",
   "id": "fd2406aa-a627-4e03-b095-a6f5c8feb36f",
   "metadata": {},
   "source": [
    "## task\n",
    "Your task is to write a python function that takes a list of intervals and returns the number of times at which the television is on. "
   ]
  },
  {
   "cell_type": "code",
   "execution_count": 1,
   "id": "5cd581c5-b76d-407b-9696-57b797f727ed",
   "metadata": {},
   "outputs": [],
   "source": [
    "from random import randint\n",
    "\n",
    "def gen_intervals(length):\n",
    "    \"\"\"\n",
    "    create random intervals\n",
    "    \"\"\"\n",
    "    intervals = []\n",
    "    for i in range(length):\n",
    "        a = randint(i, i+5)\n",
    "        b = randint(i, i+5)\n",
    "        if a < b :\n",
    "            intervals.append((a, b))\n",
    "        elif b < a:\n",
    "            intervals.append((b, a))\n",
    "        else: # a == b\n",
    "            intervals.append((a, b+1))\n",
    "    return intervals\n",
    "        \n",
    "# intervals = [(1, 4), (6, 8), (2, 4), (7, 9)]\n",
    "intervals = gen_intervals(10)"
   ]
  },
  {
   "cell_type": "code",
   "execution_count": 2,
   "id": "4a5fe2da-acfc-4932-bee4-8200e0976a9d",
   "metadata": {},
   "outputs": [
    {
     "data": {
      "text/plain": [
       "[(0, 2),\n",
       " (4, 5),\n",
       " (5, 7),\n",
       " (7, 8),\n",
       " (5, 9),\n",
       " (6, 9),\n",
       " (7, 8),\n",
       " (10, 11),\n",
       " (8, 12),\n",
       " (9, 10)]"
      ]
     },
     "execution_count": 2,
     "metadata": {},
     "output_type": "execute_result"
    }
   ],
   "source": [
    "intervals"
   ]
  },
  {
   "cell_type": "code",
   "execution_count": null,
   "id": "ee3ba688-1f0f-48e1-a11c-2f078a6295d9",
   "metadata": {},
   "outputs": [],
   "source": []
  },
  {
   "cell_type": "code",
   "execution_count": null,
   "id": "de78ec6d-a6ad-4809-9929-ff42ddf491bc",
   "metadata": {},
   "outputs": [],
   "source": []
  },
  {
   "cell_type": "code",
   "execution_count": null,
   "id": "14cf10aa-3155-4076-b5f9-323cdcfb1c08",
   "metadata": {},
   "outputs": [],
   "source": []
  }
 ],
 "metadata": {
  "kernelspec": {
   "display_name": "Python [conda env:py39]",
   "language": "python",
   "name": "conda-env-py39-py"
  },
  "language_info": {
   "codemirror_mode": {
    "name": "ipython",
    "version": 3
   },
   "file_extension": ".py",
   "mimetype": "text/x-python",
   "name": "python",
   "nbconvert_exporter": "python",
   "pygments_lexer": "ipython3",
   "version": "3.9.7"
  }
 },
 "nbformat": 4,
 "nbformat_minor": 5
}
